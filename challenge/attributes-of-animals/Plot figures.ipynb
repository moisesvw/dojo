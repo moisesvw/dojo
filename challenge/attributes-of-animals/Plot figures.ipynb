{
 "cells": [
  {
   "cell_type": "code",
   "execution_count": 5,
   "metadata": {},
   "outputs": [],
   "source": [
    "import matplotlib.pyplot as plt\n",
    "import numpy as np"
   ]
  },
  {
   "cell_type": "code",
   "execution_count": 3,
   "metadata": {},
   "outputs": [
    {
     "data": {
      "image/png": "[encoded data removed]",
      "text/plain": [
       "<matplotlib.figure.Figure at 0x106a84f98>"
      ]
     },
     "metadata": {},
     "output_type": "display_data"
    }
   ],
   "source": [
    "fig = plt.figure()\n",
    "fig.subplots_adjust(hspace=0.8, wspace=0.6)\n",
    "for i in range(1, 8):\n",
    "    ax = fig.add_subplot(2, 4, i)\n",
    "    ax.text(0.5, 0.5, str((2, i, 3)), fontsize=12, ha='center' )"
   ]
  },
  {
   "cell_type": "code",
   "execution_count": 7,
   "metadata": {},
   "outputs": [
    {
     "data": {
      "text/plain": [
       "(array([0.00082853, 0.00082853, 0.00165705, 0.0033141 , 0.00248558,\n",
       "        0.00497115, 0.00994231, 0.01574199, 0.01242788, 0.0422548 ,\n",
       "        0.04639743, 0.05716826, 0.07870993, 0.09362339, 0.07208172,\n",
       "        0.12593589, 0.13339262, 0.12096473, 0.12924999, 0.12924999,\n",
       "        0.12593589, 0.11267948, 0.08119551, 0.0679391 , 0.06131089,\n",
       "        0.03645512, 0.03396955, 0.02237019, 0.01159936, 0.00911378,\n",
       "        0.00745673, 0.00414263, 0.00082853, 0.        , 0.        ,\n",
       "        0.        , 0.        , 0.        , 0.        , 0.00082853]),\n",
       " array([-10.63301471, -10.02953303,  -9.42605135,  -8.82256967,\n",
       "         -8.21908799,  -7.61560631,  -7.01212463,  -6.40864295,\n",
       "         -5.80516127,  -5.20167959,  -4.59819791,  -3.99471623,\n",
       "         -3.39123455,  -2.78775287,  -2.18427119,  -1.58078951,\n",
       "         -0.97730783,  -0.37382615,   0.22965553,   0.83313721,\n",
       "          1.43661889,   2.04010057,   2.64358225,   3.24706393,\n",
       "          3.85054561,   4.45402729,   5.05750897,   5.66099065,\n",
       "          6.26447233,   6.86795401,   7.47143569,   8.07491737,\n",
       "          8.67839905,   9.28188073,   9.88536241,  10.48884409,\n",
       "         11.09232577,  11.69580745,  12.29928913,  12.90277081,\n",
       "         13.50625249]),\n",
       " <a list of 1 Patch objects>)"
      ]
     },
     "execution_count": 7,
     "metadata": {},
     "output_type": "execute_result"
    },
    {
     "data": {
      "image/png": "[encoded data removed]",
      "text/plain": [
       "<matplotlib.figure.Figure at 0x108f91cc0>"
      ]
     },
     "metadata": {},
     "output_type": "display_data"
    }
   ],
   "source": [
    "distribution1 = np.random.normal(0.1, 3, 2000)\n",
    "distribution2 = np.random.normal(-2, 1, 2000)\n",
    "distribution3 = np.random.normal(3, 2, 2000)\n",
    "distribution4 = np.random.normal(7, 2, 2000)\n",
    "\n",
    "kwargs = dict(histtype='stepfilled', alpha=0.3, normed=True, bins=40)\n",
    "plt.hist(distribution1, **kwargs)\n",
    "# plt.hist(distribution2, **kwargs)\n",
    "# plt.hist(distribution3, **kwargs)\n",
    "# plt.hist(distribution4, **kwargs)"
   ]
  },
  {
   "cell_type": "code",
   "execution_count": 11,
   "metadata": {},
   "outputs": [],
   "source": [
    "def function(a):\n",
    "    list = np.arange(10)\n",
    "    i = np.abs(list-a).argmin()\n",
    "    return list[i]"
   ]
  },
  {
   "cell_type": "code",
   "execution_count": 12,
   "metadata": {},
   "outputs": [
    {
     "data": {
      "text/plain": [
       "7"
      ]
     },
     "execution_count": 12,
     "metadata": {},
     "output_type": "execute_result"
    }
   ],
   "source": [
    "function(7.193)"
   ]
  },
  {
   "cell_type": "code",
   "execution_count": 13,
   "metadata": {},
   "outputs": [],
   "source": [
    "list = np.arange(10)"
   ]
  },
  {
   "cell_type": "code",
   "execution_count": 14,
   "metadata": {},
   "outputs": [
    {
     "data": {
      "text/plain": [
       "array([0, 1, 2, 3, 4, 5, 6, 7, 8, 9])"
      ]
     },
     "execution_count": 14,
     "metadata": {},
     "output_type": "execute_result"
    }
   ],
   "source": [
    "list"
   ]
  },
  {
   "cell_type": "code",
   "execution_count": 18,
   "metadata": {},
   "outputs": [
    {
     "data": {
      "text/plain": [
       "array([7.193, 6.193, 5.193, 4.193, 3.193, 2.193, 1.193, 0.193, 0.807,\n",
       "       1.807])"
      ]
     },
     "execution_count": 18,
     "metadata": {},
     "output_type": "execute_result"
    }
   ],
   "source": [
    "np.abs(list-7.193)"
   ]
  },
  {
   "cell_type": "code",
   "execution_count": 19,
   "metadata": {},
   "outputs": [
    {
     "data": {
      "text/plain": [
       "(3, 4, 2)"
      ]
     },
     "execution_count": 19,
     "metadata": {},
     "output_type": "execute_result"
    }
   ],
   "source": [
    "a = np.random.randn(3, 4, 1)\n",
    "b = np.random.rand(3, 1, 2)\n",
    "c = np.random.randn(3, 1, 1)\n",
    "d = c + a*b\n",
    "d.shape"
   ]
  },
  {
   "cell_type": "code",
   "execution_count": null,
   "metadata": {},
   "outputs": [],
   "source": []
  }
 ],
 "metadata": {
  "kernelspec": {
   "display_name": "Python 3",
   "language": "python",
   "name": "python3"
  },
  "language_info": {
   "codemirror_mode": {
    "name": "ipython",
    "version": 3
   },
   "file_extension": ".py",
   "mimetype": "text/x-python",
   "name": "python",
   "nbconvert_exporter": "python",
   "pygments_lexer": "ipython3",
   "version": "3.7.7"
  }
 },
 "nbformat": 4,
 "nbformat_minor": 2
}
