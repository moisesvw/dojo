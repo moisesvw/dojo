{
 "cells": [
  {
   "cell_type": "markdown",
   "metadata": {},
   "source": [
    "PyTorch Intro \n",
    "https://pytorch.org/tutorials/beginner/deep_learning_60min_blitz.html"
   ]
  },
  {
   "cell_type": "code",
   "execution_count": 3,
   "metadata": {},
   "outputs": [],
   "source": [
    "import torch as tr\n",
    "import numpy"
   ]
  },
  {
   "cell_type": "code",
   "execution_count": 4,
   "metadata": {},
   "outputs": [],
   "source": [
    "a = tr.Tensor([26])"
   ]
  },
  {
   "cell_type": "code",
   "execution_count": 5,
   "metadata": {},
   "outputs": [
    {
     "name": "stdout",
     "output_type": "stream",
     "text": [
      "<class 'torch.Tensor'>\n"
     ]
    }
   ],
   "source": [
    "print(type(a))"
   ]
  },
  {
   "cell_type": "code",
   "execution_count": 6,
   "metadata": {},
   "outputs": [
    {
     "name": "stdout",
     "output_type": "stream",
     "text": [
      "torch.Size([1])\n"
     ]
    }
   ],
   "source": [
    "print(a.shape)"
   ]
  },
  {
   "cell_type": "code",
   "execution_count": 7,
   "metadata": {},
   "outputs": [],
   "source": [
    "t = tr.Tensor(5,3)"
   ]
  },
  {
   "cell_type": "code",
   "execution_count": 11,
   "metadata": {},
   "outputs": [
    {
     "name": "stdout",
     "output_type": "stream",
     "text": [
      "tensor([[      0.0000,       0.0000, -176873.9844],\n",
      "        [     -0.0000,       0.0000,       0.0000],\n",
      "        [      0.0000,       0.0000,       0.0000],\n",
      "        [      0.0000,       0.0000,       0.0000],\n",
      "        [      0.0000,       0.0000, -176919.7812]])\n"
     ]
    }
   ],
   "source": [
    "print(t)"
   ]
  },
  {
   "cell_type": "code",
   "execution_count": 12,
   "metadata": {},
   "outputs": [
    {
     "name": "stdout",
     "output_type": "stream",
     "text": [
      "tensor([[ 0.0000e+00,  2.5244e-29, -1.9571e+05, -3.6902e+19],\n",
      "        [ 1.4569e-19,  1.1578e+27,  7.8981e+34,  1.2121e+04],\n",
      "        [ 7.1846e+22,  6.7437e+22,  4.2326e+21,  1.6931e+22],\n",
      "        [ 6.7406e+22,  3.3090e+21, -1.9395e+05,  3.7021e-40]]) tensor([[ 0.0000e+00,  2.5244e-29,  0.0000e+00,  2.5244e-29],\n",
      "        [ 2.6524e-06,  1.2611e+16,  4.4889e-41,  0.0000e+00],\n",
      "        [ 0.0000e+00,  2.5244e-29, -1.9566e+05,  1.0845e-19],\n",
      "        [ 2.8026e-45,  0.0000e+00,  0.0000e+00,  3.6734e-40]]) tensor([[1., 1., 1., 1.],\n",
      "        [1., 1., 1., 1.],\n",
      "        [1., 1., 1., 1.],\n",
      "        [1., 1., 1., 1.]])\n",
      "Addition:tensor([[ 0.0000e+00,  5.0487e-29, -1.9571e+05, -3.6902e+19],\n",
      "        [ 2.6524e-06,  1.1578e+27,  7.8981e+34,  1.2121e+04],\n",
      "        [ 7.1846e+22,  6.7437e+22,  4.2326e+21,  1.6931e+22],\n",
      "        [ 6.7406e+22,  3.3090e+21, -1.9395e+05,  7.3755e-40]])\n",
      "Subtraction:tensor([[-1.0000e+00, -1.0000e+00, -1.9571e+05, -3.6902e+19],\n",
      "        [-1.0000e+00,  1.1578e+27,  7.8981e+34,  1.2120e+04],\n",
      "        [ 7.1846e+22,  6.7437e+22,  4.2326e+21,  1.6931e+22],\n",
      "        [ 6.7406e+22,  3.3090e+21, -1.9395e+05, -1.0000e+00]])\n",
      "Multiplication:tensor([[ 0.0000e+00,  2.5244e-29, -1.9571e+05, -3.6902e+19],\n",
      "        [ 1.4569e-19,  1.1578e+27,  7.8981e+34,  1.2121e+04],\n",
      "        [ 7.1846e+22,  6.7437e+22,  4.2326e+21,  1.6931e+22],\n",
      "        [ 6.7406e+22,  3.3090e+21, -1.9395e+05,  3.7021e-40]])\n",
      "Division:tensor([[ 0.0000e+00,  2.5244e-29,  0.0000e+00,  2.5244e-29],\n",
      "        [ 2.6524e-06,  1.2611e+16,  4.4889e-41,  0.0000e+00],\n",
      "        [ 0.0000e+00,  2.5244e-29, -1.9566e+05,  1.0845e-19],\n",
      "        [ 2.8026e-45,  0.0000e+00,  0.0000e+00,  3.6734e-40]])\n"
     ]
    },
    {
     "data": {
      "text/plain": [
       "'\\nAddition:\\n 0.0000e+00  0.0000e+00  0.0000e+00  0.0000e+00\\n 1.6009e-19  4.4721e+21  6.2625e+22  4.7428e+30\\n 3.1921e-09  8.0221e+17  5.1019e-08  8.1121e+17\\n        nan         nan -5.3105e+37         nan\\n[torch.FloatTensor of size 4x4]\\nSubtraction:\\n-1.0000e+00 -1.0000e+00 -1.0000e+00 -1.0000e+00\\n-1.0000e+00  4.4721e+21  6.2625e+22  4.7428e+30\\n-1.0000e+00  8.0221e+17 -1.0000e+00  8.1121e+17\\n-1.0000e+00  8.2022e+17 -1.0000e+00 -8.4363e-01\\n[torch.FloatTensor of size 4x4]\\nMultiplication:\\n 0.0000e+00  0.0000e+00  0.0000e+00  0.0000e+00\\n 1.6009e-19  4.4721e+21  6.2625e+22  4.7428e+30\\n 3.1921e-09  8.0221e+17  5.1019e-08  8.1121e+17\\n 8.1631e-07  8.2022e+17  1.1703e-19  1.5637e-01\\n[torch.FloatTensor of size 4x4]\\nDivision:\\n 0.0000e+00  0.0000e+00  0.0000e+00  0.0000e+00\\n 1.8217e-44  1.1614e-41  0.0000e+00  2.2369e+08\\n 0.0000e+00  0.0000e+00  2.0376e-40  2.0376e-40\\n        nan         nan -5.3105e+37         nan\\n[torch.FloatTensor of size 4x4]\\n'"
      ]
     },
     "execution_count": 12,
     "metadata": {},
     "output_type": "execute_result"
    }
   ],
   "source": [
    "# Creating Tensors\n",
    "\n",
    "p = torch.Tensor(4,4)\n",
    "q = torch.Tensor(4,4)\n",
    "ones = torch.ones(4,4)\n",
    "\n",
    "print(p, q, ones)\n",
    "\"\"\"\n",
    "Output:\n",
    " 0.0000e+00  0.0000e+00  0.0000e+00  0.0000e+00\n",
    " 1.6009e-19  4.4721e+21  6.2625e+22  4.7428e+30\n",
    " 3.1921e-09  8.0221e+17  5.1019e-08  8.1121e+17\n",
    " 8.1631e-07  8.2022e+17  1.1703e-19  1.5637e-01\n",
    "[torch.FloatTensor of size 4x4]\n",
    " \n",
    " 0.0000e+00  0.0000e+00  0.0000e+00  0.0000e+00\n",
    " 1.8217e-44  1.1614e-41  0.0000e+00  2.2369e+08\n",
    " 0.0000e+00  0.0000e+00  2.0376e-40  2.0376e-40\n",
    "        nan         nan -5.3105e+37         nan\n",
    "[torch.FloatTensor of size 4x4]\n",
    " \n",
    " 1  1  1  1\n",
    " 1  1  1  1\n",
    " 1  1  1  1\n",
    " 1  1  1  1\n",
    "[torch.FloatTensor of size 4x4]\n",
    "\"\"\"\n",
    "\n",
    "print(\"Addition:{}\".format(p + q))\n",
    "print(\"Subtraction:{}\".format(p - ones))\n",
    "print(\"Multiplication:{}\".format(p * ones))\n",
    "print(\"Division:{}\".format(q / ones))\n",
    "\n",
    "\"\"\"\n",
    "Addition:\n",
    " 0.0000e+00  0.0000e+00  0.0000e+00  0.0000e+00\n",
    " 1.6009e-19  4.4721e+21  6.2625e+22  4.7428e+30\n",
    " 3.1921e-09  8.0221e+17  5.1019e-08  8.1121e+17\n",
    "        nan         nan -5.3105e+37         nan\n",
    "[torch.FloatTensor of size 4x4]\n",
    "Subtraction:\n",
    "-1.0000e+00 -1.0000e+00 -1.0000e+00 -1.0000e+00\n",
    "-1.0000e+00  4.4721e+21  6.2625e+22  4.7428e+30\n",
    "-1.0000e+00  8.0221e+17 -1.0000e+00  8.1121e+17\n",
    "-1.0000e+00  8.2022e+17 -1.0000e+00 -8.4363e-01\n",
    "[torch.FloatTensor of size 4x4]\n",
    "Multiplication:\n",
    " 0.0000e+00  0.0000e+00  0.0000e+00  0.0000e+00\n",
    " 1.6009e-19  4.4721e+21  6.2625e+22  4.7428e+30\n",
    " 3.1921e-09  8.0221e+17  5.1019e-08  8.1121e+17\n",
    " 8.1631e-07  8.2022e+17  1.1703e-19  1.5637e-01\n",
    "[torch.FloatTensor of size 4x4]\n",
    "Division:\n",
    " 0.0000e+00  0.0000e+00  0.0000e+00  0.0000e+00\n",
    " 1.8217e-44  1.1614e-41  0.0000e+00  2.2369e+08\n",
    " 0.0000e+00  0.0000e+00  2.0376e-40  2.0376e-40\n",
    "        nan         nan -5.3105e+37         nan\n",
    "[torch.FloatTensor of size 4x4]\n",
    "\"\"\""
   ]
  },
  {
   "cell_type": "code",
   "execution_count": null,
   "metadata": {},
   "outputs": [],
   "source": []
  }
 ],
 "metadata": {
  "kernelspec": {
   "display_name": "Python 3",
   "language": "python",
   "name": "python3"
  },
  "language_info": {
   "codemirror_mode": {
    "name": "ipython",
    "version": 3
   },
   "file_extension": ".py",
   "mimetype": "text/x-python",
   "name": "python",
   "nbconvert_exporter": "python",
   "pygments_lexer": "ipython3",
   "version": "3.7.7"
  }
 },
 "nbformat": 4,
 "nbformat_minor": 2
}
