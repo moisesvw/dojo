{
 "cells": [
  {
   "cell_type": "markdown",
   "metadata": {},
   "source": [
    "Exploring Numpy Scalar Types\n",
    "https://docs.scipy.org/doc/numpy-1.14.0/reference/arrays.scalars.html\n",
    "<img src=\"https://docs.scipy.org/doc/numpy-1.14.0/_images/dtype-hierarchy.png\">"
   ]
  },
  {
   "cell_type": "code",
   "execution_count": 2,
   "metadata": {},
   "outputs": [],
   "source": [
    "import numpy as np"
   ]
  },
  {
   "cell_type": "code",
   "execution_count": 1,
   "metadata": {},
   "outputs": [
    {
     "name": "stdout",
     "output_type": "stream",
     "text": [
      "<class 'int'>\n",
      "<class 'float'>\n",
      "12.5\n",
      "-2.5\n",
      "37.5\n",
      "0.6666666666666666\n"
     ]
    }
   ],
   "source": [
    "a = 5\n",
    "b = 7.5\n",
    "print( type(a) )\n",
    "print( type(b) )\n",
    "print(a + b)\n",
    "print(a - b)\n",
    "print(a * b)\n",
    "print(a / b)"
   ]
  },
  {
   "cell_type": "code",
   "execution_count": 18,
   "metadata": {},
   "outputs": [
    {
     "data": {
      "text/plain": [
       "False"
      ]
     },
     "execution_count": 18,
     "metadata": {},
     "output_type": "execute_result"
    }
   ],
   "source": [
    "isinstance(1, np.unsignedinteger)"
   ]
  },
  {
   "cell_type": "code",
   "execution_count": 21,
   "metadata": {},
   "outputs": [
    {
     "name": "stdout",
     "output_type": "stream",
     "text": [
      "<class 'list'>\n",
      "[1, 2, 3, 4, 5, 6]\n",
      "[5 7 9]\n",
      "<class 'numpy.ndarray'>\n",
      "[-3  6 -3]\n"
     ]
    }
   ],
   "source": [
    "# Declaring Vectors\n",
    "\n",
    "x = [1, 2, 3]\n",
    "y = [4, 5, 6]\n",
    "\n",
    "print(type(x))\n",
    "\n",
    "# This does'nt give the vector addition.\n",
    "print(x + y)\n",
    "\n",
    "# Vector addition using Numpy\n",
    "\n",
    "z = np.add(x, y)\n",
    "print(z)\n",
    "print(type(z))\n",
    "\n",
    "# Vector Cross Product\n",
    "mul = np.cross(x, y)\n",
    "print(mul)"
   ]
  },
  {
   "cell_type": "code",
   "execution_count": 23,
   "metadata": {},
   "outputs": [
    {
     "data": {
      "text/plain": [
       "matrix([[1, 2],\n",
       "        [2, 3]])"
      ]
     },
     "execution_count": 23,
     "metadata": {},
     "output_type": "execute_result"
    }
   ],
   "source": [
    "x = np.matrix([[1,2],[2,3]])\n",
    "x\n",
    "\n"
   ]
  },
  {
   "cell_type": "code",
   "execution_count": 24,
   "metadata": {},
   "outputs": [
    {
     "data": {
      "text/plain": [
       "matrix([[1.5, 2.5]])"
      ]
     },
     "execution_count": 24,
     "metadata": {},
     "output_type": "execute_result"
    }
   ],
   "source": [
    "a = x.mean(0)\n",
    "a"
   ]
  },
  {
   "cell_type": "code",
   "execution_count": 27,
   "metadata": {},
   "outputs": [
    {
     "data": {
      "text/plain": [
       "matrix([[1.5],\n",
       "        [2.5]])"
      ]
     },
     "execution_count": 27,
     "metadata": {},
     "output_type": "execute_result"
    }
   ],
   "source": [
    "z = x.mean(1)\n",
    "z"
   ]
  },
  {
   "cell_type": "code",
   "execution_count": 28,
   "metadata": {},
   "outputs": [
    {
     "data": {
      "text/plain": [
       "(2, 1)"
      ]
     },
     "execution_count": 28,
     "metadata": {},
     "output_type": "execute_result"
    }
   ],
   "source": [
    "z.shape"
   ]
  },
  {
   "cell_type": "code",
   "execution_count": 29,
   "metadata": {},
   "outputs": [],
   "source": [
    "y = x - z"
   ]
  },
  {
   "cell_type": "code",
   "execution_count": 30,
   "metadata": {},
   "outputs": [
    {
     "name": "stdout",
     "output_type": "stream",
     "text": [
      "<class 'numpy.matrixlib.defmatrix.matrix'>\n"
     ]
    }
   ],
   "source": [
    "print(type(z))"
   ]
  },
  {
   "cell_type": "code",
   "execution_count": 31,
   "metadata": {},
   "outputs": [
    {
     "name": "stdout",
     "output_type": "stream",
     "text": [
      "10\n"
     ]
    }
   ],
   "source": [
    "import numpy as np\n",
    "\n",
    "x = np.matrix([[1, 2], [4, 3]])\n",
    "\n",
    "sum = x.sum()\n",
    "print(sum)\n",
    "# Output: 10"
   ]
  },
  {
   "cell_type": "code",
   "execution_count": 32,
   "metadata": {},
   "outputs": [
    {
     "name": "stdout",
     "output_type": "stream",
     "text": [
      "(2, 2)\n",
      "(2, 2)\n",
      "[[ 4  6]\n",
      " [ 7 13]]\n",
      "(2, 2)\n"
     ]
    },
    {
     "data": {
      "text/plain": [
       "'\\nOutput : \\n[[ 4  6]\\n [ 7 13]]\\n(2, 2)\\n'"
      ]
     },
     "execution_count": 32,
     "metadata": {},
     "output_type": "execute_result"
    }
   ],
   "source": [
    "import numpy as np\n",
    "\n",
    "x = np.matrix([[1, 2], [4, 3]])\n",
    "y = np.matrix([[3, 4], [3, 10]])\n",
    "\n",
    "print(x.shape)\n",
    "# (2, 2)\n",
    "print(y.shape)\n",
    "# (2, 2)\n",
    "\n",
    "m_sum = np.add(x, y)\n",
    "print(m_sum)\n",
    "print(m_sum.shape)\n",
    "\"\"\"\n",
    "Output : \n",
    "[[ 4  6]\n",
    " [ 7 13]]\n",
    "(2, 2)\n",
    "\"\"\""
   ]
  },
  {
   "cell_type": "code",
   "execution_count": 33,
   "metadata": {},
   "outputs": [
    {
     "name": "stdout",
     "output_type": "stream",
     "text": [
      "[[2 3]\n",
      " [5 4]]\n"
     ]
    },
    {
     "data": {
      "text/plain": [
       "'\\nOutput:\\n[[2 3]\\n [5 4]]\\n'"
      ]
     },
     "execution_count": 33,
     "metadata": {},
     "output_type": "execute_result"
    }
   ],
   "source": [
    "##Adds the given scalar to all the elements in the given matrix.\n",
    "x = np.matrix([[1, 2], [4, 3]])\n",
    "s_sum = x + 1\n",
    "print(s_sum)\n",
    "\"\"\"\n",
    "Output:\n",
    "[[2 3]\n",
    " [5 4]]\n",
    "\"\"\""
   ]
  },
  {
   "cell_type": "code",
   "execution_count": 34,
   "metadata": {},
   "outputs": [
    {
     "name": "stdout",
     "output_type": "stream",
     "text": [
      "[[ 3  6]\n",
      " [12  9]]\n"
     ]
    },
    {
     "data": {
      "text/plain": [
       "'\\n[[ 3  6]\\n [12  9]]\\n'"
      ]
     },
     "execution_count": 34,
     "metadata": {},
     "output_type": "execute_result"
    }
   ],
   "source": [
    "# Matrix Scalar Multiplication\n",
    "\n",
    "x = np.matrix([[1, 2], [4, 3]])\n",
    "s_mul = x * 3\n",
    "print(s_mul)\n",
    "\"\"\"\n",
    "[[ 3  6]\n",
    " [12  9]]\n",
    "\"\"\""
   ]
  },
  {
   "cell_type": "code",
   "execution_count": 35,
   "metadata": {},
   "outputs": [
    {
     "name": "stdout",
     "output_type": "stream",
     "text": [
      "(-13+0j)\n"
     ]
    }
   ],
   "source": [
    "# Matrix Multiplication\n",
    "\n",
    "a = [[1, 0], [0, 1]]\n",
    "b = [1, 2]\n",
    "np.matmul(a, b)\n",
    "# Output: array([1, 2])\n",
    "\n",
    "complex_mul = np.matmul([2j, 3j], [2j, 3j])\n",
    "print(complex_mul)\n",
    "# Output: (-13+0j)"
   ]
  },
  {
   "cell_type": "code",
   "execution_count": 38,
   "metadata": {},
   "outputs": [
    {
     "name": "stdout",
     "output_type": "stream",
     "text": [
      "[[1 2]\n",
      " [3 4]]\n",
      "[[1 2]\n",
      " [3 4]]\n"
     ]
    },
    {
     "data": {
      "text/plain": [
       "'\\narray([[1, 3],\\n       [2, 4]])\\n'"
      ]
     },
     "execution_count": 38,
     "metadata": {},
     "output_type": "execute_result"
    }
   ],
   "source": [
    "\n",
    "# Matrix Transpose\n",
    "\n",
    "a = np.array([[1, 2], [3, 4]])\n",
    "print(a)\n",
    "\"\"\"\n",
    "[[1 2]\n",
    " [3 4]]\n",
    "\"\"\"\n",
    "a.transpose()\n",
    "print(a)\n",
    "\"\"\"\n",
    "array([[1, 3],\n",
    "       [2, 4]])\n",
    "\"\"\""
   ]
  },
  {
   "cell_type": "code",
   "execution_count": null,
   "metadata": {},
   "outputs": [],
   "source": []
  }
 ],
 "metadata": {
  "kernelspec": {
   "display_name": "Python 3",
   "language": "python",
   "name": "python3"
  },
  "language_info": {
   "codemirror_mode": {
    "name": "ipython",
    "version": 3
   },
   "file_extension": ".py",
   "mimetype": "text/x-python",
   "name": "python",
   "nbconvert_exporter": "python",
   "pygments_lexer": "ipython3",
   "version": "3.7.7"
  }
 },
 "nbformat": 4,
 "nbformat_minor": 2
}
